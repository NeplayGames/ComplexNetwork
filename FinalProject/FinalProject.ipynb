{
 "cells": [
  {
   "cell_type": "code",
   "execution_count": 2,
   "metadata": {},
   "outputs": [
    {
     "name": "stdout",
     "output_type": "stream",
     "text": [
      "Filtered graph file created: FinalProject.gexf\n"
     ]
    },
    {
     "name": "stderr",
     "output_type": "stream",
     "text": [
      "C:\\Users\\ASUS\\AppData\\Local\\Temp\\ipykernel_16876\\297288731.py:21: SettingWithCopyWarning: \n",
      "A value is trying to be set on a copy of a slice from a DataFrame.\n",
      "Try using .loc[row_indexer,col_indexer] = value instead\n",
      "\n",
      "See the caveats in the documentation: https://pandas.pydata.org/pandas-docs/stable/user_guide/indexing.html#returning-a-view-versus-a-copy\n",
      "  filtered_flights[\"Route\"] = filtered_flights.apply(lambda row: tuple(sorted([row[\"Source airport\"], row[\"Destination airport\"]])), axis=1)\n"
     ]
    }
   ],
   "source": [
    "import pandas as pd\n",
    "import networkx as nx\n",
    "\n",
    "# Load airport data\n",
    "airports_df = pd.read_csv(\"./CSVFiles/airports.csv\")  # Contains Airport ID, IATA, Name, Country\n",
    "routes_df = pd.read_csv(\"./CSVFiles/routes.csv\")  # Contains Source airport, Destination airport\n",
    "\n",
    "# Filter for US and Canada airports\n",
    "US_Canada_Airports = airports_df[airports_df[\"Country\"].isin([\"Canada\", \"United States\"])]\n",
    "\n",
    "# Map IATA codes to airport names\n",
    "airport_name_map = dict(zip(US_Canada_Airports[\"IATA\"], US_Canada_Airports[\"Name\"]))\n",
    "\n",
    "# Keep only flights where both airports are in US/Canada\n",
    "filtered_flights = routes_df[\n",
    "    (routes_df[\"Source airport\"].isin(airport_name_map)) & \n",
    "    (routes_df[\"Destination airport\"].isin(airport_name_map))\n",
    "]\n",
    "\n",
    "# Normalize flight direction (ensuring undirected edges)\n",
    "filtered_flights[\"Route\"] = filtered_flights.apply(lambda row: tuple(sorted([row[\"Source airport\"], row[\"Destination airport\"]])), axis=1)\n",
    "\n",
    "# Count occurrences of each unique route (weight)\n",
    "route_counts = filtered_flights[\"Route\"].value_counts().reset_index()\n",
    "route_counts.columns = [\"Route\", \"Weight\"]\n",
    "\n",
    "# Split back into Source and Target\n",
    "route_counts[[\"Source\", \"Target\"]] = pd.DataFrame(route_counts[\"Route\"].tolist(), index=route_counts.index)\n",
    "\n",
    "# Create a Graph\n",
    "G = nx.Graph()\n",
    "\n",
    "# Add edges with weight\n",
    "for _, row in route_counts.iterrows():\n",
    "    G.add_edge(row[\"Source\"], row[\"Target\"], weight=row[\"Weight\"])\n",
    "    G.add_node(row[\"Source\"], label = row[\"Source\"])\n",
    "# Save as GEXF (supported by Gephi)\n",
    "nx.write_gexf(G, \"FinalProject.gexf\")\n",
    "\n",
    "print(\"Filtered graph file created: FinalProject.gexf\")\n"
   ]
  }
 ],
 "metadata": {
  "kernelspec": {
   "display_name": "Python 3",
   "language": "python",
   "name": "python3"
  },
  "language_info": {
   "codemirror_mode": {
    "name": "ipython",
    "version": 3
   },
   "file_extension": ".py",
   "mimetype": "text/x-python",
   "name": "python",
   "nbconvert_exporter": "python",
   "pygments_lexer": "ipython3",
   "version": "3.12.1"
  }
 },
 "nbformat": 4,
 "nbformat_minor": 2
}
